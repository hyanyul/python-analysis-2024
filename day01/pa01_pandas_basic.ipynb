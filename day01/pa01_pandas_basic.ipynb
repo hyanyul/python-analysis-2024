{
 "cells": [
  {
   "cell_type": "markdown",
   "metadata": {},
   "source": [
    "## Pandas 학습\n",
    "\n",
    "### 라이브러리 추가\n",
    "\n",
    "```python\n",
    "!pip install pandas\n",
    "```\n",
    "\n",
    "- Successfuly installed: 최초 설치\n",
    "- Requirement already satisfied: 이미 설치되어 있는 상태"
   ]
  },
  {
   "cell_type": "code",
   "execution_count": null,
   "metadata": {},
   "outputs": [],
   "source": [
    "!pip install pandas"
   ]
  },
  {
   "cell_type": "markdown",
   "metadata": {},
   "source": [
    "### Pandas 라이브러리 로딩\n",
    "```python\n",
    "import pandas as pd\n",
    "```"
   ]
  },
  {
   "cell_type": "code",
   "execution_count": null,
   "metadata": {},
   "outputs": [],
   "source": [
    "import pandas as pd"
   ]
  },
  {
   "cell_type": "markdown",
   "metadata": {},
   "source": [
    "### Pandas 기본\n",
    "#### DataFrame 객체\n",
    "- 파이썬 2차원 리스트(배열)와 동일\n",
    "- 행(row): 각 하나의 유니크한 데이터 묶음\n",
    "- 열(column): 유니크 데이터 하나하나의 특성"
   ]
  },
  {
   "cell_type": "code",
   "execution_count": null,
   "metadata": {},
   "outputs": [],
   "source": [
    "# 딕셔너리로 DataFrame 객체 생성 = 2차원 리스트와 동일하게 생성 가능\n",
    "data = {'이름': ['홍길동', '김길동', '애슐리'], '나이': [25, 20, 40], '결혼 여부': [False, True, True]}\n",
    "df = pd.DataFrame(data=data)\n",
    "df"
   ]
  },
  {
   "cell_type": "code",
   "execution_count": null,
   "metadata": {},
   "outputs": [],
   "source": [
    "data = [['홍길동' , 25, '율도국', 'email@naver.com', False], ['김길동', 20, '부산', 'kimail@naver.com', True]\n",
    "        , ['애슐리', 40, '경기', 'ashley@nate.com', True], ['홍길순', 19, '서울', 'hgs@gamil.com', False]]\n",
    "\n",
    "data"
   ]
  },
  {
   "cell_type": "code",
   "execution_count": null,
   "metadata": {},
   "outputs": [],
   "source": [
    "df = pd.DataFrame(data=data, columns=['이름', '나이', '주소','이메일', '결혼 여부'])\n",
    "df"
   ]
  },
  {
   "cell_type": "code",
   "execution_count": null,
   "metadata": {},
   "outputs": [],
   "source": [
    "#DataFrame에서 데이터 조회(열 조회) - 리스트는  for문 써야 출력 가능\n",
    "df['이름']"
   ]
  },
  {
   "cell_type": "code",
   "execution_count": null,
   "metadata": {},
   "outputs": [],
   "source": [
    "#DataFrame 조회(2개 열 조회)\n",
    "df[['이름', '나이']]"
   ]
  },
  {
   "cell_type": "code",
   "execution_count": null,
   "metadata": {},
   "outputs": [],
   "source": [
    "#데이터프레임 행으로 조회(결과 세로로 나옴)\n",
    "df.loc[0]"
   ]
  },
  {
   "cell_type": "code",
   "execution_count": null,
   "metadata": {},
   "outputs": [],
   "source": [
    "df.loc[[0]]"
   ]
  },
  {
   "cell_type": "code",
   "execution_count": null,
   "metadata": {},
   "outputs": [],
   "source": [
    "#데이터프레임 조회(행)\n",
    "df.loc[[0, 1]]"
   ]
  },
  {
   "cell_type": "code",
   "execution_count": null,
   "metadata": {},
   "outputs": [],
   "source": [
    "#데이터프레임 조회(행)\n",
    "df.loc[0:1]"
   ]
  },
  {
   "cell_type": "code",
   "execution_count": null,
   "metadata": {},
   "outputs": [],
   "source": [
    "#현재 데이터프레임 확인\n",
    "df"
   ]
  },
  {
   "cell_type": "code",
   "execution_count": null,
   "metadata": {},
   "outputs": [],
   "source": [
    "#새 컬럼 추가(제일 마지막 열에 추가됨)\n",
    "df['전화번호'] = ['010', '011', '017', '019']"
   ]
  },
  {
   "cell_type": "code",
   "execution_count": null,
   "metadata": {},
   "outputs": [],
   "source": [
    "#추가된 데이터프레임 확인\n",
    "df"
   ]
  },
  {
   "cell_type": "code",
   "execution_count": null,
   "metadata": {},
   "outputs": [],
   "source": [
    "#열 삭제, axis=0(행)-생략 가능 / axis=1(열)\n",
    "df.drop('결혼 여부', axis=1)    "
   ]
  },
  {
   "cell_type": "code",
   "execution_count": null,
   "metadata": {},
   "outputs": [],
   "source": [
    "df"
   ]
  },
  {
   "cell_type": "code",
   "execution_count": null,
   "metadata": {},
   "outputs": [],
   "source": [
    "#drop(): 삭제 상태 출력만 함(저장 X), 완전 삭제 위해서는 inplace 옵션 사용\n",
    "df.drop('결혼 여부', axis=1, inplace=True)  #inplace 사용 시 출력 안됨\n",
    "#지운 뒤에 재실행 시 오류 뜸(∵df에 결혼 여부 없음)"
   ]
  },
  {
   "cell_type": "code",
   "execution_count": null,
   "metadata": {},
   "outputs": [],
   "source": [
    "#삭제 확인\n",
    "df"
   ]
  },
  {
   "cell_type": "code",
   "execution_count": null,
   "metadata": {},
   "outputs": [],
   "source": [
    "#행 추가\n",
    "df.loc[4] = ['손흥민', 32, '런던', 'shm@gamil.com', '020']"
   ]
  },
  {
   "cell_type": "code",
   "execution_count": null,
   "metadata": {},
   "outputs": [],
   "source": [
    "df"
   ]
  },
  {
   "cell_type": "code",
   "execution_count": null,
   "metadata": {},
   "outputs": [],
   "source": [
    "#행 삭제, 완전 삭제를 원하면 inplace 사용 혹은 변수에 재할당\n",
    "df2 = df.drop(3)"
   ]
  },
  {
   "cell_type": "code",
   "execution_count": null,
   "metadata": {},
   "outputs": [],
   "source": [
    "df2"
   ]
  },
  {
   "cell_type": "code",
   "execution_count": null,
   "metadata": {},
   "outputs": [],
   "source": [
    "#행 삭제(inplace 사용)\n",
    "df.drop(2, axis=0, inplace=True)"
   ]
  },
  {
   "cell_type": "code",
   "execution_count": null,
   "metadata": {},
   "outputs": [],
   "source": [
    "df"
   ]
  },
  {
   "cell_type": "code",
   "execution_count": null,
   "metadata": {},
   "outputs": [],
   "source": [
    "#열 이름 변경\n",
    "df.rename(columns={'전화번호':'휴대폰'})    #변경 내용 출력만 함\n",
    "df.rename(columns={'전화번호':'휴대폰'}, inplace=True)  #변경 후 저장(출력 안함)"
   ]
  },
  {
   "cell_type": "code",
   "execution_count": null,
   "metadata": {},
   "outputs": [],
   "source": [
    "df"
   ]
  },
  {
   "cell_type": "markdown",
   "metadata": {},
   "source": [
    "- 데이터프레임은 파이썬의 2차원 리스트와 동일하나, 좀 더 사용하기 쉽도록 만든 클래스"
   ]
  },
  {
   "cell_type": "markdown",
   "metadata": {},
   "source": [
    "#### 시리즈 객체\n",
    "\n",
    "- 파이썬에서 1차원 리스트(배열)\n",
    "- 시리즈들을 그룹핑한 것 == 데이터프레임\n",
    "- 가장 최소 단위"
   ]
  },
  {
   "cell_type": "code",
   "execution_count": null,
   "metadata": {},
   "outputs": [],
   "source": [
    "data = [47, 20, 40, 19, 32]\n",
    "srs = pd.Series(data=data)\n",
    "srs"
   ]
  },
  {
   "cell_type": "code",
   "execution_count": null,
   "metadata": {},
   "outputs": [],
   "source": [
    "#데이터프레임의 한 열을 가지고 온 자료구조와 시리즈 동일\n",
    "type(df['나이'])    #pandas.core.series.Series"
   ]
  },
  {
   "cell_type": "code",
   "execution_count": null,
   "metadata": {},
   "outputs": [],
   "source": [
    "type(srs)   #pandas.core.series.Series"
   ]
  },
  {
   "cell_type": "code",
   "execution_count": null,
   "metadata": {},
   "outputs": [],
   "source": [
    "srs = pd.Series(data=data, index=['성명건', '홍길동','애슐리', '홍길순', '손흥민'])\n",
    "srs\n",
    "#type(srs)   #pandas.core.series.Series / 인덱스만 변경했기 때문에 타입이 바뀌지는 않음"
   ]
  },
  {
   "cell_type": "code",
   "execution_count": null,
   "metadata": {},
   "outputs": [],
   "source": [
    "#조회\n",
    "srs['손흥민']"
   ]
  },
  {
   "cell_type": "code",
   "execution_count": null,
   "metadata": {},
   "outputs": [],
   "source": [
    "#값 변경\n",
    "srs['성명건'] = 48"
   ]
  },
  {
   "cell_type": "code",
   "execution_count": null,
   "metadata": {},
   "outputs": [],
   "source": [
    "srs"
   ]
  },
  {
   "cell_type": "code",
   "execution_count": null,
   "metadata": {},
   "outputs": [],
   "source": [
    "#데이터프레임에서 한 행을 가져와도 시리즈\n",
    "df.loc[1]   #type(df.loc[1]) -> pandas.core.series.Series"
   ]
  },
  {
   "cell_type": "markdown",
   "metadata": {},
   "source": [
    "#### 데이터프레임 사용하기\n",
    "\n",
    "- csv, 엑셀파일 로드\n",
    "- VS Code 플러그인(확장), GrapeCity의 Excel Viewer 설치\n",
    "- 엑셀 파일 로드 시 openpyxl 라이브러리를 추가 설치\n",
    "    ```python\n",
    "    > !pip install openpyxl\n",
    "    ```"
   ]
  },
  {
   "cell_type": "code",
   "execution_count": null,
   "metadata": {},
   "outputs": [],
   "source": [
    "#CSV 로드\n",
    "df_csv = pd.read_csv('./data/sample_1.csv', encoding='utf-8', header=1, skipfooter=2, engine='python', usecols=[0, 1, 2])\n",
    "df_csv"
   ]
  },
  {
   "cell_type": "code",
   "execution_count": null,
   "metadata": {},
   "outputs": [],
   "source": [
    "#openpyxl 설치\n",
    "!pip install openpyxl"
   ]
  },
  {
   "cell_type": "code",
   "execution_count": null,
   "metadata": {},
   "outputs": [],
   "source": [
    "#엑셀 로드\n",
    "df_xls = pd.read_excel('./data/sample_1.xlsx', header=1, skipfooter=2, usecols='A:C', sheet_name='Sheet1')\n",
    "df_xls"
   ]
  },
  {
   "cell_type": "markdown",
   "metadata": {},
   "source": [
    "- 엑셀, CSV는 동일한 데이터라면 CSV가 훨씬 용량이 작음"
   ]
  },
  {
   "cell_type": "code",
   "execution_count": null,
   "metadata": {},
   "outputs": [],
   "source": [
    "# 데이터프레임(DF) 정보 확인\n",
    "df_csv.info()"
   ]
  },
  {
   "cell_type": "code",
   "execution_count": null,
   "metadata": {},
   "outputs": [],
   "source": [
    "#데이터 일부 조회(위에서부터, 기본 n=5)\n",
    "df_csv.head(n=3)"
   ]
  },
  {
   "cell_type": "code",
   "execution_count": null,
   "metadata": {},
   "outputs": [],
   "source": [
    "#데이터 일부 조회(아래에서부터, 기본 n=5)\n",
    "df_csv.tail(n=3)"
   ]
  },
  {
   "cell_type": "code",
   "execution_count": null,
   "metadata": {},
   "outputs": [],
   "source": [
    "#통계량 요약 보기\n",
    "df_csv.describe()"
   ]
  },
  {
   "cell_type": "code",
   "execution_count": null,
   "metadata": {},
   "outputs": [],
   "source": [
    "df_csv[['국적코드', '입국객수']]"
   ]
  },
  {
   "cell_type": "code",
   "execution_count": null,
   "metadata": {},
   "outputs": [],
   "source": [
    "#모두 다른 데이터 할당 가능\n",
    "df_csv['기준년월'] = ['2023-10', '2023-11', '2023-12', '2024-01', '2024-02', '2024-03']"
   ]
  },
  {
   "cell_type": "code",
   "execution_count": null,
   "metadata": {},
   "outputs": [],
   "source": [
    "df_csv"
   ]
  },
  {
   "cell_type": "code",
   "execution_count": null,
   "metadata": {},
   "outputs": [],
   "source": [
    "#하나의 데이터로 할당 가능\n",
    "df_csv['기준년월'] = '2023-12'"
   ]
  },
  {
   "cell_type": "code",
   "execution_count": null,
   "metadata": {},
   "outputs": [],
   "source": [
    "df_csv"
   ]
  },
  {
   "cell_type": "code",
   "execution_count": null,
   "metadata": {},
   "outputs": [],
   "source": [
    "#df_csv.loc[[0, 1, 2]]\n",
    "df_csv.loc[0:2]"
   ]
  },
  {
   "cell_type": "code",
   "execution_count": null,
   "metadata": {},
   "outputs": [],
   "source": [
    "#필터링\n",
    "condition = df_csv['국적코드'] == 'A31'\n",
    "condition"
   ]
  },
  {
   "cell_type": "code",
   "execution_count": null,
   "metadata": {},
   "outputs": [],
   "source": [
    "df_csv[condition]   #국적코드가 A31 / True인 결과만 출력됨"
   ]
  },
  {
   "cell_type": "code",
   "execution_count": null,
   "metadata": {},
   "outputs": [],
   "source": [
    "#상단의 condition 변수 만드는 부분과 사용하는 부분 합침\n",
    "df_csv[df_csv['성별'] == '여성']"
   ]
  },
  {
   "cell_type": "code",
   "execution_count": null,
   "metadata": {},
   "outputs": [],
   "source": [
    "#입국객수가 20만 이상인 데이터 행만 출력\n",
    "df_csv[df_csv['입국객수'] >= 200_000]"
   ]
  },
  {
   "cell_type": "code",
   "execution_count": null,
   "metadata": {},
   "outputs": [],
   "source": [
    "#여러 조건을 같이 필터링\n",
    "df_csv[(df_csv['성별']=='남성') & (df_csv['입국객수'] >= 150000)]   #성별 남성, 입국객수 15만명 이상의 조건을 모두 충족하는 데이터 출력"
   ]
  },
  {
   "cell_type": "code",
   "execution_count": null,
   "metadata": {},
   "outputs": [],
   "source": [
    "#한 열에 여러값으로 필터링\n",
    "df_csv[df_csv['국적코드'].isin(['A01', 'A31']) == True] #국적코드가 A01이거나 A31인 데이터 출력"
   ]
  },
  {
   "cell_type": "code",
   "execution_count": null,
   "metadata": {},
   "outputs": [],
   "source": [
    "df_csv[df_csv['국적코드'].isin(['A01', 'A31']) == False]"
   ]
  },
  {
   "cell_type": "code",
   "execution_count": null,
   "metadata": {},
   "outputs": [],
   "source": [
    "#DF에 새 컬럼 생성\n",
    "df_csv['국적명'] = ['일본', '일본', '괌', '괌', '중국', '중국']\n",
    "df_csv"
   ]
  },
  {
   "cell_type": "code",
   "execution_count": null,
   "metadata": {},
   "outputs": [],
   "source": [
    "#DF에 인덱스 변경\n",
    "df_csv = df_csv.set_index(keys = '국적명')  #값 저장하려면 변수에 할당해야 함\n",
    "df_csv"
   ]
  },
  {
   "cell_type": "code",
   "execution_count": null,
   "metadata": {},
   "outputs": [],
   "source": [
    "df_csv = df_csv.reset_index()   #값 저장하려면 변수에 할당해야 함\n",
    "df_csv"
   ]
  },
  {
   "cell_type": "code",
   "execution_count": null,
   "metadata": {},
   "outputs": [],
   "source": [
    "#그룹화는 groupby() 함수만으로 사용 불가\n",
    "#여러 함수를 같이 사용해야 DF로 출력됨\n",
    "df_csv.groupby('국적명').count()    #국적별로 그룹화됨"
   ]
  },
  {
   "cell_type": "code",
   "execution_count": null,
   "metadata": {},
   "outputs": [],
   "source": [
    "#나머지 컬럼은 sum() 합산할 의미 없음 -> 입국객수만 나오게 함\n",
    "#DF에서 Dtype이 int32, int64, float과 같은 숫자형만 통계 내는 의미 있음\n",
    "df_csv.groupby('국적명').sum('입국객수')"
   ]
  },
  {
   "cell_type": "code",
   "execution_count": null,
   "metadata": {},
   "outputs": [],
   "source": [
    "#그룹화 후 통계함수 사용 시 동일하게 적용\n",
    "#통계함수: median()-중앙값, min()-최소값, max()-최대값, std()-표준편차, var()-분산 등\n",
    "df_csv.groupby('국적명').mean('입국객수')   #mean(): 평균"
   ]
  },
  {
   "cell_type": "code",
   "execution_count": 63,
   "metadata": {},
   "outputs": [
    {
     "data": {
      "text/html": [
       "<div>\n",
       "<style scoped>\n",
       "    .dataframe tbody tr th:only-of-type {\n",
       "        vertical-align: middle;\n",
       "    }\n",
       "\n",
       "    .dataframe tbody tr th {\n",
       "        vertical-align: top;\n",
       "    }\n",
       "\n",
       "    .dataframe thead th {\n",
       "        text-align: right;\n",
       "    }\n",
       "</style>\n",
       "<table border=\"1\" class=\"dataframe\">\n",
       "  <thead>\n",
       "    <tr style=\"text-align: right;\">\n",
       "      <th></th>\n",
       "      <th>국적명</th>\n",
       "      <th>국적코드</th>\n",
       "      <th>성별</th>\n",
       "      <th>입국객수</th>\n",
       "      <th>기준년월</th>\n",
       "    </tr>\n",
       "  </thead>\n",
       "  <tbody>\n",
       "    <tr>\n",
       "      <th>5</th>\n",
       "      <td>중국</td>\n",
       "      <td>A18</td>\n",
       "      <td>여성</td>\n",
       "      <td>232943</td>\n",
       "      <td>2023-12</td>\n",
       "    </tr>\n",
       "    <tr>\n",
       "      <th>1</th>\n",
       "      <td>일본</td>\n",
       "      <td>A01</td>\n",
       "      <td>여성</td>\n",
       "      <td>191436</td>\n",
       "      <td>2023-12</td>\n",
       "    </tr>\n",
       "    <tr>\n",
       "      <th>4</th>\n",
       "      <td>중국</td>\n",
       "      <td>A18</td>\n",
       "      <td>남성</td>\n",
       "      <td>158912</td>\n",
       "      <td>2023-12</td>\n",
       "    </tr>\n",
       "    <tr>\n",
       "      <th>0</th>\n",
       "      <td>일본</td>\n",
       "      <td>A01</td>\n",
       "      <td>남성</td>\n",
       "      <td>106320</td>\n",
       "      <td>2023-12</td>\n",
       "    </tr>\n",
       "    <tr>\n",
       "      <th>2</th>\n",
       "      <td>괌</td>\n",
       "      <td>A31</td>\n",
       "      <td>남성</td>\n",
       "      <td>319</td>\n",
       "      <td>2023-12</td>\n",
       "    </tr>\n",
       "    <tr>\n",
       "      <th>3</th>\n",
       "      <td>괌</td>\n",
       "      <td>A31</td>\n",
       "      <td>여성</td>\n",
       "      <td>42</td>\n",
       "      <td>2023-12</td>\n",
       "    </tr>\n",
       "  </tbody>\n",
       "</table>\n",
       "</div>"
      ],
      "text/plain": [
       "  국적명 국적코드  성별    입국객수     기준년월\n",
       "5  중국  A18  여성  232943  2023-12\n",
       "1  일본  A01  여성  191436  2023-12\n",
       "4  중국  A18  남성  158912  2023-12\n",
       "0  일본  A01  남성  106320  2023-12\n",
       "2   괌  A31  남성     319  2023-12\n",
       "3   괌  A31  여성      42  2023-12"
      ]
     },
     "execution_count": 63,
     "metadata": {},
     "output_type": "execute_result"
    }
   ],
   "source": [
    "#정렬\n",
    "df_csv.sort_values('입국객수', ascending = True)     #입국객수로 정렬 ascending=True(오름차순)\n",
    "df_csv.sort_values('입국객수', ascending = False)    #ascending=False(내림차순)"
   ]
  },
  {
   "cell_type": "code",
   "execution_count": null,
   "metadata": {},
   "outputs": [],
   "source": [
    "집보내줘ㅏ어널아ㅣㄻ"
   ]
  }
 ],
 "metadata": {
  "kernelspec": {
   "display_name": "Python 3",
   "language": "python",
   "name": "python3"
  },
  "language_info": {
   "codemirror_mode": {
    "name": "ipython",
    "version": 3
   },
   "file_extension": ".py",
   "mimetype": "text/x-python",
   "name": "python",
   "nbconvert_exporter": "python",
   "pygments_lexer": "ipython3",
   "version": "3.12.2"
  }
 },
 "nbformat": 4,
 "nbformat_minor": 2
}
